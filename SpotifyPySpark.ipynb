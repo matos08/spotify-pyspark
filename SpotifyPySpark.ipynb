{
  "nbformat": 4,
  "nbformat_minor": 0,
  "metadata": {
    "colab": {
      "provenance": [],
      "authorship_tag": "ABX9TyPC/wq2/QncOEKQSReiuph0",
      "include_colab_link": true
    },
    "kernelspec": {
      "name": "python3",
      "display_name": "Python 3"
    },
    "language_info": {
      "name": "python"
    }
  },
  "cells": [
    {
      "cell_type": "markdown",
      "metadata": {
        "id": "view-in-github",
        "colab_type": "text"
      },
      "source": [
        "<a href=\"https://colab.research.google.com/github/matos08/spotify-pyspark/blob/main/SpotifyPySpark.ipynb\" target=\"_parent\"><img src=\"https://colab.research.google.com/assets/colab-badge.svg\" alt=\"Open In Colab\"/></a>"
      ]
    },
    {
      "cell_type": "code",
      "source": [
        "!pip install pyspark"
      ],
      "metadata": {
        "id": "ISYptLQ5O-TR",
        "outputId": "63a7c2c7-e87a-4c96-ed1b-3e4c6fa2bc22",
        "colab": {
          "base_uri": "https://localhost:8080/"
        }
      },
      "execution_count": null,
      "outputs": [
        {
          "output_type": "stream",
          "name": "stdout",
          "text": [
            "Collecting pyspark\n",
            "  Downloading pyspark-3.5.1.tar.gz (317.0 MB)\n",
            "\u001b[2K     \u001b[90m━━━━━━━━━━━━━━━━━━━━━━━━━━━━━━━━━━━━━━━━\u001b[0m \u001b[32m317.0/317.0 MB\u001b[0m \u001b[31m2.5 MB/s\u001b[0m eta \u001b[36m0:00:00\u001b[0m\n",
            "\u001b[?25h  Preparing metadata (setup.py) ... \u001b[?25l\u001b[?25hdone\n",
            "Requirement already satisfied: py4j==0.10.9.7 in /usr/local/lib/python3.10/dist-packages (from pyspark) (0.10.9.7)\n",
            "Building wheels for collected packages: pyspark\n",
            "  Building wheel for pyspark (setup.py) ... \u001b[?25l\u001b[?25hdone\n",
            "  Created wheel for pyspark: filename=pyspark-3.5.1-py2.py3-none-any.whl size=317488491 sha256=631da880130fb7b9aa9cac0a8662bc65a8da5bcb34cbd0cf6c63502334ce5aa5\n",
            "  Stored in directory: /root/.cache/pip/wheels/80/1d/60/2c256ed38dddce2fdd93be545214a63e02fbd8d74fb0b7f3a6\n",
            "Successfully built pyspark\n",
            "Installing collected packages: pyspark\n",
            "Successfully installed pyspark-3.5.1\n"
          ]
        }
      ]
    },
    {
      "cell_type": "code",
      "source": [
        "from pyspark.sql import SparkSession"
      ],
      "metadata": {
        "id": "wDodg7pCKgzD"
      },
      "execution_count": null,
      "outputs": []
    },
    {
      "cell_type": "code",
      "execution_count": null,
      "metadata": {
        "id": "Or-BT0JjeS7j",
        "colab": {
          "base_uri": "https://localhost:8080/"
        },
        "outputId": "edf19bd8-f45d-4565-d767-698e4af1968c"
      },
      "outputs": [
        {
          "output_type": "stream",
          "name": "stdout",
          "text": [
            "+----------+--------------------+--------------------+--------------------+--------------------+----------+-----------+--------+------------+------+---+--------+----+-----------+------------+----------------+--------+-------+-------+--------------+-----------+\n",
            "|Unnamed: 0|            track_id|             artists|          album_name|          track_name|popularity|duration_ms|explicit|danceability|energy|key|loudness|mode|speechiness|acousticness|instrumentalness|liveness|valence|  tempo|time_signature|track_genre|\n",
            "+----------+--------------------+--------------------+--------------------+--------------------+----------+-----------+--------+------------+------+---+--------+----+-----------+------------+----------------+--------+-------+-------+--------------+-----------+\n",
            "|         0|5SuOikwiRyPMVoIQD...|         Gen Hoshino|              Comedy|              Comedy|        73|     230666|   False|       0.676| 0.461|  1|  -6.746|   0|      0.143|      0.0322|         1.01E-6|   0.358|  0.715| 87.917|           4.0|   acoustic|\n",
            "|         1|4qPNDBW1i3p13qLCt...|        Ben Woodward|    Ghost (Acoustic)|    Ghost - Acoustic|        55|     149610|   False|        0.42| 0.166|  1| -17.235|   1|     0.0763|       0.924|         5.56E-6|   0.101|  0.267| 77.489|           4.0|   acoustic|\n",
            "|         2|1iJBSr7s7jYXzM8EG...|Ingrid Michaelson...|      To Begin Again|      To Begin Again|        57|     210826|   False|       0.438| 0.359|  0|  -9.734|   1|     0.0557|        0.21|             0.0|   0.117|   0.12| 76.332|           4.0|   acoustic|\n",
            "|         3|6lfxq3CG4xtTiEg7o...|        Kina Grannis|Crazy Rich Asians...|Can't Help Fallin...|        71|     201933|   False|       0.266|0.0596|  0| -18.515|   1|     0.0363|       0.905|         7.07E-5|   0.132|  0.143| 181.74|           3.0|   acoustic|\n",
            "|         4|5vjLSffimiIP26QG5...|    Chord Overstreet|             Hold On|             Hold On|        82|     198853|   False|       0.618| 0.443|  2|  -9.681|   1|     0.0526|       0.469|             0.0|  0.0829|  0.167|119.949|           4.0|   acoustic|\n",
            "|         5|01MVOl9KtVTNfFiBU...|        Tyrone Wells|Days I Will Remember|Days I Will Remember|        58|     214240|   False|       0.688| 0.481|  6|  -8.807|   1|      0.105|       0.289|             0.0|   0.189|  0.666| 98.017|           4.0|   acoustic|\n",
            "|         6|6Vc5wAMmXdKIAM7WU...|A Great Big World...|Is There Anybody ...|       Say Something|        74|     229400|   False|       0.407| 0.147|  2|  -8.822|   1|     0.0355|       0.857|         2.89E-6|  0.0913| 0.0765|141.284|           3.0|   acoustic|\n",
            "|         7|1EzrEOXmMH3G43AXT...|          Jason Mraz|We Sing. We Dance...|           I'm Yours|        80|     242946|   False|       0.703| 0.444| 11|  -9.331|   1|     0.0417|       0.559|             0.0|  0.0973|  0.712| 150.96|           4.0|   acoustic|\n",
            "|         8|0IktbUcnAGrvD03AW...|Jason Mraz;Colbie...|We Sing. We Dance...|               Lucky|        74|     189613|   False|       0.625| 0.414|  0|    -8.7|   1|     0.0369|       0.294|             0.0|   0.151|  0.669|130.088|           4.0|   acoustic|\n",
            "|         9|7k9GuJYLp2AzqokyE...|      Ross Copperman|              Hunger|              Hunger|        56|     205594|   False|       0.442| 0.632|  1|   -6.77|   1|     0.0295|       0.426|         0.00419|  0.0735|  0.196| 78.899|           4.0|   acoustic|\n",
            "|        10|4mzP5mHkRvGxdhdGd...|        Zack Tabudlo|             Episode|Give Me Your Forever|        74|     244800|   False|       0.627| 0.363|  8|  -8.127|   1|     0.0291|       0.279|             0.0|  0.0928|  0.301| 99.905|           4.0|   acoustic|\n",
            "|        11|5ivF4eQBqJiVL5IAE...|          Jason Mraz|Love Is a Four Le...|     I Won't Give Up|        69|     240165|   False|       0.483| 0.303|  4| -10.058|   1|     0.0429|       0.694|             0.0|   0.115|  0.139|133.406|           3.0|   acoustic|\n",
            "|        12|4ptDJbJl35d7gQfeN...|            Dan Berk|                Solo|                Solo|        52|     198712|   False|       0.489| 0.314|  7|  -9.245|   0|     0.0331|       0.749|             0.0|   0.113|  0.607|124.234|           4.0|   acoustic|\n",
            "|        13|0X9MxHR1rTkEHDjp9...|       Anna Hamilton|            Bad Liar|            Bad Liar|        62|     248448|   False|       0.691| 0.234|  3|  -6.441|   1|     0.0285|       0.777|             0.0|    0.12|  0.209| 87.103|           4.0|   acoustic|\n",
            "|        14|4LbWtBkN82ZRhz9jq...|Chord Overstreet;...|     Hold On (Remix)|     Hold On - Remix|        56|     188133|   False|       0.755|  0.78|  2|  -6.084|   1|     0.0327|       0.124|         2.83E-5|   0.121|  0.387|120.004|           4.0|   acoustic|\n",
            "|        15|1KHdq8NK9QxnGjdXb...|         Landon Pigg|   The Boy Who Never|Falling in Love a...|        58|     244986|   False|       0.489| 0.561|  4|  -7.933|   1|     0.0274|         0.2|         4.56E-5|   0.179|  0.238| 83.457|           3.0|   acoustic|\n",
            "|        16|6xKeQgzfjixSUld14...|Andrew Foy;Renee Foy|ily (i love you b...|ily (i love you b...|        56|     129750|   False|       0.706| 0.112|  2| -18.098|   1|     0.0391|       0.827|         4.03E-6|   0.125|  0.414|110.154|           4.0|   acoustic|\n",
            "|        17|4Yo0igmcoNyat1sec...|Andrew Foy;Renee Foy|         At My Worst|         At My Worst|        54|     169728|   False|       0.795|0.0841| 10|  -18.09|   0|     0.0461|       0.742|         1.17E-5|  0.0853|  0.609| 91.803|           4.0|   acoustic|\n",
            "|        18|2qLMf6TuEC3ruGJg4...|Jason Mraz;Colbie...|We Sing. We Dance...|               Lucky|        68|     189613|   False|       0.625| 0.414|  0|    -8.7|   1|     0.0369|       0.294|             0.0|   0.151|  0.669|130.088|           4.0|   acoustic|\n",
            "|        19|6CgNoAbFJ4Q4Id4Ej...|Boyce Avenue;Bea ...|Cover Sessions, V...|          Photograph|        67|     260186|   False|       0.717|  0.32|  3|  -8.393|   1|     0.0283|        0.83|             0.0|   0.107|  0.322|107.946|           4.0|   acoustic|\n",
            "+----------+--------------------+--------------------+--------------------+--------------------+----------+-----------+--------+------------+------+---+--------+----+-----------+------------+----------------+--------+-------+-------+--------------+-----------+\n",
            "only showing top 20 rows\n",
            "\n"
          ]
        }
      ],
      "source": [
        " # Caminho para o arquivo \".csv\"\n",
        " # Ler o CSV e criar um dataframe\n",
        "spark = SparkSession.builder.appName(\"SpotifyAnalysis\").getOrCreate()\n",
        "file_path = \"/spotify.csv\"\n",
        "df = spark.read.csv(file_path, header=True, inferSchema=True)\n",
        "df.show()\n"
      ]
    },
    {
      "cell_type": "code",
      "source": [
        "from google.colab import drive\n",
        "drive.mount('/content/drive')"
      ],
      "metadata": {
        "colab": {
          "base_uri": "https://localhost:8080/"
        },
        "id": "SgXhcaqKfhIO",
        "outputId": "f53c7b30-4f3b-4fa5-e803-3a5d31a915ad"
      },
      "execution_count": null,
      "outputs": [
        {
          "output_type": "stream",
          "name": "stdout",
          "text": [
            "Mounted at /content/drive\n"
          ]
        }
      ]
    },
    {
      "cell_type": "code",
      "source": [
        "# Laço de repetição para criar uma lista de colunas a serem excluidas\n",
        "# Função drop para excluir colunas resultantes do laço de repetição\n",
        "colunas_a_manter = [\"artists\", \"track_name\", \"popularity\"]\n",
        "colunas_a_excluir = [coluna for coluna in df.columns if coluna not in colunas_a_manter]\n",
        "df_result_laco_for = df.drop(*colunas_a_excluir)\n",
        "df_result_laco_for.printSchema()\n",
        "df_result_laco_for.show()"
      ],
      "metadata": {
        "id": "MM2uXXOFR8BT",
        "colab": {
          "base_uri": "https://localhost:8080/"
        },
        "outputId": "68424a61-5b23-4901-9143-2ce0aa95e546"
      },
      "execution_count": null,
      "outputs": [
        {
          "output_type": "stream",
          "name": "stdout",
          "text": [
            "root\n",
            " |-- artists: string (nullable = true)\n",
            " |-- track_name: string (nullable = true)\n",
            " |-- popularity: string (nullable = true)\n",
            "\n",
            "+--------------------+--------------------+----------+\n",
            "|             artists|          track_name|popularity|\n",
            "+--------------------+--------------------+----------+\n",
            "|         Gen Hoshino|              Comedy|        73|\n",
            "|        Ben Woodward|    Ghost - Acoustic|        55|\n",
            "|Ingrid Michaelson...|      To Begin Again|        57|\n",
            "|        Kina Grannis|Can't Help Fallin...|        71|\n",
            "|    Chord Overstreet|             Hold On|        82|\n",
            "|        Tyrone Wells|Days I Will Remember|        58|\n",
            "|A Great Big World...|       Say Something|        74|\n",
            "|          Jason Mraz|           I'm Yours|        80|\n",
            "|Jason Mraz;Colbie...|               Lucky|        74|\n",
            "|      Ross Copperman|              Hunger|        56|\n",
            "|        Zack Tabudlo|Give Me Your Forever|        74|\n",
            "|          Jason Mraz|     I Won't Give Up|        69|\n",
            "|            Dan Berk|                Solo|        52|\n",
            "|       Anna Hamilton|            Bad Liar|        62|\n",
            "|Chord Overstreet;...|     Hold On - Remix|        56|\n",
            "|         Landon Pigg|Falling in Love a...|        58|\n",
            "|Andrew Foy;Renee Foy|ily (i love you b...|        56|\n",
            "|Andrew Foy;Renee Foy|         At My Worst|        54|\n",
            "|Jason Mraz;Colbie...|               Lucky|        68|\n",
            "|Boyce Avenue;Bea ...|          Photograph|        67|\n",
            "+--------------------+--------------------+----------+\n",
            "only showing top 20 rows\n",
            "\n"
          ]
        }
      ]
    },
    {
      "cell_type": "code",
      "source": [
        "# casting da coluna popularity\n",
        "df_tratado = df_result_laco_for.withColumn(\"popularity\",\n",
        "                                  df_result_laco_for[\"popularity\"]\n",
        "                                  .cast('int'))\n",
        "df_tratado.printSchema()"
      ],
      "metadata": {
        "id": "qIwwMbBzkVZC",
        "colab": {
          "base_uri": "https://localhost:8080/"
        },
        "outputId": "ba15f345-5843-4db7-d46b-d49a1f6645e7"
      },
      "execution_count": null,
      "outputs": [
        {
          "output_type": "stream",
          "name": "stdout",
          "text": [
            "root\n",
            " |-- artists: string (nullable = true)\n",
            " |-- track_name: string (nullable = true)\n",
            " |-- popularity: integer (nullable = true)\n",
            "\n"
          ]
        }
      ]
    },
    {
      "cell_type": "code",
      "source": [
        "# orderBy + ascending=False organizará as colunas de forma decrescente\n",
        "# distinct tem a função de eliminar linhas repitidas\n",
        "df = df_tratado.select(['artists',\n",
        "                  'track_name',\n",
        "                  'popularity']).distinct().orderBy(['popularity',\n",
        "                                                     ], ascending=False).show()"
      ],
      "metadata": {
        "id": "pXSBNWMPsW0r",
        "colab": {
          "base_uri": "https://localhost:8080/"
        },
        "outputId": "f24f075d-f844-48bd-cefb-94109ea4445c"
      },
      "execution_count": null,
      "outputs": [
        {
          "output_type": "stream",
          "name": "stdout",
          "text": [
            "+--------------------+--------------------+----------+\n",
            "|             artists|          track_name|popularity|\n",
            "+--------------------+--------------------+----------+\n",
            "|Sam Smith;Kim Petras|Unholy (feat. Kim...|       100|\n",
            "|    Bizarrap;Quevedo|Quevedo: Bzrp Mus...|        99|\n",
            "|       Manuel Turizo|          La Bachata|        98|\n",
            "|David Guetta;Bebe...|     I'm Good (Blue)|        98|\n",
            "|Bad Bunny;Chencho...|     Me Porto Bonito|        97|\n",
            "|           Bad Bunny|    Tití Me Preguntó|        97|\n",
            "|           Bad Bunny|              Efecto|        96|\n",
            "|         OneRepublic|     I Ain't Worried|        96|\n",
            "|         Chris Brown| Under The Influence|        96|\n",
            "|           Bad Bunny|              Efecto|        95|\n",
            "|Bad Bunny;Bomba E...|       Ojitos Lindos|        95|\n",
            "|        Harry Styles|           As It Was|        95|\n",
            "|                Joji|       Glimpse of Us|        94|\n",
            "|           Bad Bunny|         Moscow Mule|        94|\n",
            "|Bad Bunny;Bomba E...|       Ojitos Lindos|        94|\n",
            "|           Tom Odell|        Another Love|        93|\n",
            "|           Bad Bunny|            Neverita|        93|\n",
            "|   The Neighbourhood|     Sweater Weather|        93|\n",
            "|             Beyoncé|             CUFF IT|        93|\n",
            "|             KAROL G|            PROVENZA|        93|\n",
            "+--------------------+--------------------+----------+\n",
            "only showing top 20 rows\n",
            "\n"
          ]
        }
      ]
    }
  ]
}